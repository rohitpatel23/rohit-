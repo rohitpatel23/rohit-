{
 "cells": [
  {
   "cell_type": "code",
   "execution_count": 22,
   "id": "dbf1b156-97a0-4e2c-8102-52c6bfd95371",
   "metadata": {},
   "outputs": [],
   "source": [
    "#Q1: What are the Probability Mass Function (PMF) and Probability Density Function (PDF)? Explain with\n",
    "#an example."
   ]
  },
  {
   "cell_type": "code",
   "execution_count": 23,
   "id": "cb80db87-0d86-44fa-97b4-8e0a52867190",
   "metadata": {},
   "outputs": [
    {
     "data": {
      "text/plain": [
       "'probability that a discrete random variable equals a specific value (probability mass function)\\nprobability that a random variable is less than or equal to a specific value (cumulative distribution function).\\n'"
      ]
     },
     "execution_count": 23,
     "metadata": {},
     "output_type": "execute_result"
    }
   ],
   "source": [
    "'''probability that a discrete random variable equals a specific value (probability mass function)\n",
    "probability that a random variable is less than or equal to a specific value (cumulative distribution function).\n",
    "'''"
   ]
  },
  {
   "cell_type": "code",
   "execution_count": 24,
   "id": "baa25625-f19e-4d24-9fc1-0b5b2927912b",
   "metadata": {},
   "outputs": [],
   "source": [
    "#Q2: What is Cumulative Density Function (CDF)? Explain with an example. Why CDF is used?"
   ]
  },
  {
   "cell_type": "code",
   "execution_count": 25,
   "id": "0d3e596a-b7a2-4cb9-a85b-909e25132afd",
   "metadata": {},
   "outputs": [
    {
     "data": {
      "text/plain": [
       "'The Cumulative Density Function (CDF) is a probability distribution function that provides the cumulative probability of a random variable X being less than or equal to a certain value x. It is defined as:\\n\\nCDF(x) = P(X <= x)\\nfor example he probability of rolling a number less than or equal to 3 is the sum of the probabilities of rolling a 1, 2, or 3, which is 1/6 + 1/6 + 1/6 = 3/6 = 0.5.'"
      ]
     },
     "execution_count": 25,
     "metadata": {},
     "output_type": "execute_result"
    }
   ],
   "source": [
    "'''The Cumulative Density Function (CDF) is a probability distribution function that provides the cumulative probability of a random variable X being less than or equal to a certain value x. It is defined as:\n",
    "\n",
    "CDF(x) = P(X <= x)\n",
    "for example he probability of rolling a number less than or equal to 3 is the sum of the probabilities of rolling a 1, 2, or 3, which is 1/6 + 1/6 + 1/6 = 3/6 = 0.5.'''"
   ]
  },
  {
   "cell_type": "code",
   "execution_count": 26,
   "id": "bd9018cd-f86d-4b60-8c68-91dbf6200de6",
   "metadata": {},
   "outputs": [
    {
     "data": {
      "text/plain": [
       "'Q3: What are some examples of situations where the normal distribution might be used as a model?\\nExplain how the parameters of the normal distribution relate to the shape of the distribution.'"
      ]
     },
     "execution_count": 26,
     "metadata": {},
     "output_type": "execute_result"
    }
   ],
   "source": [
    "'''Q3: What are some examples of situations where the normal distribution might be used as a model?\n",
    "Explain how the parameters of the normal distribution relate to the shape of the distribution.'''"
   ]
  },
  {
   "cell_type": "code",
   "execution_count": 27,
   "id": "d35dfaf6-f7df-44c9-aa36-9089e82a2140",
   "metadata": {},
   "outputs": [
    {
     "data": {
      "text/plain": [
       "'The normal distribution is a probability distribution that is commonly used in statistical modeling because of its ability to describe many real-world phenomena. Here are some examples of situations where the normal distribution might be used as a model:\\n\\nHeight measurements: The height of a population tends to follow a normal distribution, with most people being around the average height and fewer people being much taller or much shorter.\\n\\nTest scores: Standardized test scores often follow a normal distribution, with most people scoring around the average score and fewer people scoring much higher or much lower'"
      ]
     },
     "execution_count": 27,
     "metadata": {},
     "output_type": "execute_result"
    }
   ],
   "source": [
    "'''The normal distribution is a probability distribution that is commonly used in statistical modeling because of its ability to describe many real-world phenomena. Here are some examples of situations where the normal distribution might be used as a model:\n",
    "\n",
    "Height measurements: The height of a population tends to follow a normal distribution, with most people being around the average height and fewer people being much taller or much shorter.\n",
    "\n",
    "Test scores: Standardized test scores often follow a normal distribution, with most people scoring around the average score and fewer people scoring much higher or much lower'''"
   ]
  },
  {
   "cell_type": "code",
   "execution_count": 28,
   "id": "ede99c8c-cd56-4eba-93d4-54b205a25fa9",
   "metadata": {},
   "outputs": [
    {
     "data": {
      "text/plain": [
       "'Q4: Explain the importance of Normal Distribution. Give a few real-life examples of Normal\\nDistribution.'"
      ]
     },
     "execution_count": 28,
     "metadata": {},
     "output_type": "execute_result"
    }
   ],
   "source": [
    "'''Q4: Explain the importance of Normal Distribution. Give a few real-life examples of Normal\n",
    "Distribution.'''"
   ]
  },
  {
   "cell_type": "code",
   "execution_count": 29,
   "id": "8b55c204-44c8-43a9-b2c8-933833053b14",
   "metadata": {},
   "outputs": [
    {
     "data": {
      "text/plain": [
       "'Normal distribution is a probability distribution that is commonly used in statistics to describe real-world phenomena. \\nSome real-life examples of normal distribution include:\\n\\nHeights: The heights of adult humans tend to follow a normal distribution, with most people falling near the average height and fewer people at the extremes of the distribution.\\n\\nIQ scores: Intelligence quotient (IQ) scores also tend to follow a normal distribution, with most people scoring near the average and fewer people at the very high or very low ends of the distribution.'"
      ]
     },
     "execution_count": 29,
     "metadata": {},
     "output_type": "execute_result"
    }
   ],
   "source": [
    "'''Normal distribution is a probability distribution that is commonly used in statistics to describe real-world phenomena. \n",
    "Some real-life examples of normal distribution include:\n",
    "\n",
    "Heights: The heights of adult humans tend to follow a normal distribution, with most people falling near the average height and fewer people at the extremes of the distribution.\n",
    "\n",
    "IQ scores: Intelligence quotient (IQ) scores also tend to follow a normal distribution, with most people scoring near the average and fewer people at the very high or very low ends of the distribution.'''"
   ]
  },
  {
   "cell_type": "code",
   "execution_count": 30,
   "id": "dc7cd8a7-0894-450d-b461-ed60c4daee9f",
   "metadata": {},
   "outputs": [],
   "source": [
    "#Q5: What is Bernaulli Distribution? Give an Example. What is the difference between Bernoulli\n",
    "#Distribution and Binomial Distribution?"
   ]
  },
  {
   "cell_type": "code",
   "execution_count": 31,
   "id": "cc0fcef4-34eb-4a47-87a7-63b34ad19786",
   "metadata": {},
   "outputs": [
    {
     "data": {
      "text/plain": [
       "'Bernoulli distribution is a discrete probability distribution that describes the outcome of a single binary event (i.e., an event that has only two possible outcomes, such as success or failure).\\nThe probability mass function of the Bernoulli distribution is:\\n\\nP(X = 1) = p\\nP(X = 0) = 1 - p\\nThe main difference between Bernoulli distribution and binomial distribution is that Bernoulli distribution is used to model the outcome of a single binary event, while binomial distribution is used to model the outcome of a fixed number of independent Bernoulli trials. In other words, binomial distribution is the sum of several Bernoulli trials.'"
      ]
     },
     "execution_count": 31,
     "metadata": {},
     "output_type": "execute_result"
    }
   ],
   "source": [
    "'''Bernoulli distribution is a discrete probability distribution that describes the outcome of a single binary event (i.e., an event that has only two possible outcomes, such as success or failure).\n",
    "The probability mass function of the Bernoulli distribution is:\n",
    "\n",
    "P(X = 1) = p\n",
    "P(X = 0) = 1 - p\n",
    "The main difference between Bernoulli distribution and binomial distribution is that Bernoulli distribution is used to model the outcome of a single binary event, while binomial distribution is used to model the outcome of a fixed number of independent Bernoulli trials. In other words, binomial distribution is the sum of several Bernoulli trials.'''"
   ]
  },
  {
   "cell_type": "code",
   "execution_count": 32,
   "id": "a312a4f0-564b-45dd-8c1f-3fc44695993e",
   "metadata": {},
   "outputs": [
    {
     "data": {
      "text/plain": [
       "'z = (x - μ) / σ\\nIn this case, x = 60, μ = 50, and σ = 10, so we have:\\n\\nz = (60 - 50) / 10 = 1\\nNext, we can use a standard normal distribution table or a calculator to find the probability that a z-score is greater than 1. From the standard normal distribution table, we find that the probability of a z-score being greater than 1 is 0.1587. Therefore, the probability that a randomly selected observation from this dataset will be greater than 60 is approximately 0.1587 or 15.87%.\\n\\nTherefore, the probability that a randomly selected observation will be greater than 60 is approximately 0.1587 or 15.87%.'"
      ]
     },
     "execution_count": 32,
     "metadata": {},
     "output_type": "execute_result"
    }
   ],
   "source": [
    "'''z = (x - μ) / σ\n",
    "In this case, x = 60, μ = 50, and σ = 10, so we have:\n",
    "\n",
    "z = (60 - 50) / 10 = 1\n",
    "Next, we can use a standard normal distribution table or a calculator to find the probability that a z-score is greater than 1. From the standard normal distribution table, we find that the probability of a z-score being greater than 1 is 0.1587. Therefore, the probability that a randomly selected observation from this dataset will be greater than 60 is approximately 0.1587 or 15.87%.\n",
    "\n",
    "Therefore, the probability that a randomly selected observation will be greater than 60 is approximately 0.1587 or 15.87%.'''"
   ]
  },
  {
   "cell_type": "code",
   "execution_count": 33,
   "id": "1c1f046e-db51-472a-82f3-6222fd3417ed",
   "metadata": {},
   "outputs": [],
   "source": [
    "#Q7: Explain uniform Distribution with an example."
   ]
  },
  {
   "cell_type": "code",
   "execution_count": 34,
   "id": "1017d8a7-ccbd-4b7f-9dc6-ca953c491078",
   "metadata": {},
   "outputs": [
    {
     "data": {
      "text/plain": [
       "'Uniform distribution is a probability distribution where every possible outcome has an equal chance of occurring. It is also known as a rectangular distribution because the probability density function is constant over the range of possible outcomes.'"
      ]
     },
     "execution_count": 34,
     "metadata": {},
     "output_type": "execute_result"
    }
   ],
   "source": [
    "'''Uniform distribution is a probability distribution where every possible outcome has an equal chance of occurring. It is also known as a rectangular distribution because the probability density function is constant over the range of possible outcomes.'''\n"
   ]
  },
  {
   "cell_type": "code",
   "execution_count": 35,
   "id": "945676cb-fd93-449f-b583-b776669f15dc",
   "metadata": {},
   "outputs": [],
   "source": [
    "#Q8: What is the z score? State the importance of the z score."
   ]
  },
  {
   "cell_type": "code",
   "execution_count": 36,
   "id": "9ea55695-63cd-457a-9ece-7c374c30ea25",
   "metadata": {},
   "outputs": [
    {
     "data": {
      "text/plain": [
       "'A z-score, also known as a standard score, is a statistical measure that describes how many standard deviations a data point is from the mean of a population. It is calculated by subtracting the mean from the data point and dividing the result by the standard deviation.\\n\\nThe formula for calculating the z-score is:\\n\\nz = (x - μ) / σ\\nThe importance of the z-score lies in its ability to standardize data and allow for meaningful comparisons between different datasets. By converting raw data into z-scores, it becomes possible to compare data from different distributions, even if they have different means and standard deviations.'"
      ]
     },
     "execution_count": 36,
     "metadata": {},
     "output_type": "execute_result"
    }
   ],
   "source": [
    "'''A z-score, also known as a standard score, is a statistical measure that describes how many standard deviations a data point is from the mean of a population. It is calculated by subtracting the mean from the data point and dividing the result by the standard deviation.\n",
    "\n",
    "The formula for calculating the z-score is:\n",
    "\n",
    "z = (x - μ) / σ\n",
    "The importance of the z-score lies in its ability to standardize data and allow for meaningful comparisons between different datasets. By converting raw data into z-scores, it becomes possible to compare data from different distributions, even if they have different means and standard deviations.'''"
   ]
  },
  {
   "cell_type": "code",
   "execution_count": 37,
   "id": "0cbfd70f-ce0b-4d8b-ac9b-c6a2107ab904",
   "metadata": {},
   "outputs": [],
   "source": [
    "#Q9: What is Central Limit Theorem? State the significance of the Central Limit Theorem."
   ]
  },
  {
   "cell_type": "code",
   "execution_count": 38,
   "id": "58224507-cffa-4a7a-8d1c-aa5c6196c9f3",
   "metadata": {},
   "outputs": [
    {
     "data": {
      "text/plain": [
       "'The Central Limit Theorem (CLT) is a fundamental concept in statistics that describes the behavior of the mean of a large number of independent and identically distributed random variables. It states that as the sample size increases, the distribution of the sample mean will approach a normal distribution regardless of the shape of the original population distribution.\\nThe significance of the CLT is that it allows us to make inferences about a population based on a sample of data. For example, we can use the sample mean and standard deviation to estimate the population mean and standard deviation, or to perform hypothesis tests and construct confidence intervals.'"
      ]
     },
     "execution_count": 38,
     "metadata": {},
     "output_type": "execute_result"
    }
   ],
   "source": [
    "'''The Central Limit Theorem (CLT) is a fundamental concept in statistics that describes the behavior of the mean of a large number of independent and identically distributed random variables. It states that as the sample size increases, the distribution of the sample mean will approach a normal distribution regardless of the shape of the original population distribution.\n",
    "The significance of the CLT is that it allows us to make inferences about a population based on a sample of data. For example, we can use the sample mean and standard deviation to estimate the population mean and standard deviation, or to perform hypothesis tests and construct confidence intervals.'''"
   ]
  },
  {
   "cell_type": "code",
   "execution_count": 39,
   "id": "e3c0fc86-69ac-45eb-a46a-447e49d603f0",
   "metadata": {},
   "outputs": [],
   "source": [
    "#|Q10: State the assumptions of the Central Limit Theorem."
   ]
  },
  {
   "cell_type": "code",
   "execution_count": 40,
   "id": "218d88cd-41ca-4912-b170-47a88c955198",
   "metadata": {},
   "outputs": [
    {
     "data": {
      "text/plain": [
       "'The Central Limit Theorem (CLT) is a statistical theory that describes the behavior of the means of samples drawn from a population. It assumes the following:\\n\\nThe sample size is large enough (usually n >= 30) such that the sample mean and standard deviation are reliable estimates of the population mean and standard deviation, respectively.\\n\\nThe samples are selected randomly and independently from the population.'"
      ]
     },
     "execution_count": 40,
     "metadata": {},
     "output_type": "execute_result"
    }
   ],
   "source": [
    "'''The Central Limit Theorem (CLT) is a statistical theory that describes the behavior of the means of samples drawn from a population. It assumes the following:\n",
    "\n",
    "The sample size is large enough (usually n >= 30) such that the sample mean and standard deviation are reliable estimates of the population mean and standard deviation, respectively.\n",
    "\n",
    "The samples are selected randomly and independently from the population.'''"
   ]
  },
  {
   "cell_type": "code",
   "execution_count": null,
   "id": "66306e2f-89f0-41d7-b24a-634d5ff75c3a",
   "metadata": {},
   "outputs": [],
   "source": []
  },
  {
   "cell_type": "code",
   "execution_count": null,
   "id": "6e7b60c6-5cc6-4168-a10c-cb05a4846ff6",
   "metadata": {},
   "outputs": [],
   "source": []
  }
 ],
 "metadata": {
  "kernelspec": {
   "display_name": "Python 3 (ipykernel)",
   "language": "python",
   "name": "python3"
  },
  "language_info": {
   "codemirror_mode": {
    "name": "ipython",
    "version": 3
   },
   "file_extension": ".py",
   "mimetype": "text/x-python",
   "name": "python",
   "nbconvert_exporter": "python",
   "pygments_lexer": "ipython3",
   "version": "3.10.8"
  }
 },
 "nbformat": 4,
 "nbformat_minor": 5
}
